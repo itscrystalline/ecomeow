{
 "cells": [
  {
   "cell_type": "code",
   "execution_count": 2,
   "id": "initial_id",
   "metadata": {
    "collapsed": true,
    "ExecuteTime": {
     "end_time": "2024-04-16T07:39:50.393108560Z",
     "start_time": "2024-04-16T07:39:50.382791832Z"
    }
   },
   "outputs": [],
   "source": [
    "import pandas as pd\n",
    "\n",
    "file1 = \"population-1800-2021.csv\"\n",
    "file2 = \"annualCo2Emissions.csv\"\n",
    "df1 = pd.read_csv(file1)\n",
    "df2 = pd.read_csv(file2)"
   ]
  },
  {
   "cell_type": "code",
   "outputs": [],
   "source": [
    "# merge the two dataframes\n",
    "df = pd.merge(df1, df2, on='Year', how='inner')"
   ],
   "metadata": {
    "collapsed": false,
    "ExecuteTime": {
     "end_time": "2024-04-16T07:39:51.647356623Z",
     "start_time": "2024-04-16T07:39:51.641751992Z"
    }
   },
   "id": "ddef789013fe96b2",
   "execution_count": 3
  },
  {
   "cell_type": "code",
   "outputs": [
    {
     "data": {
      "text/plain": "     Year  Population  Annual CO₂ emissions  Total CO₂ emissions\n0    1800   985340629          3.279835e+07         3.279835e+07\n1    1801   987628322          3.198605e+07         6.478440e+07\n2    1802   991098738          4.031048e+07         1.050949e+08\n3    1803   994610260          2.953851e+07         1.346334e+08\n4    1804   998163240          3.176918e+07         1.664026e+08\n..    ...         ...                   ...                  ...\n217  2017  7599822336          3.602546e+10         1.589327e+12\n218  2018  7683789824          3.676694e+10         1.626094e+12\n219  2019  7764951040          3.704010e+10         1.663134e+12\n220  2020  7840952832          3.500774e+10         1.698142e+12\n221  2021  7909295104          3.681654e+10         1.734959e+12\n\n[222 rows x 4 columns]",
      "text/html": "<div>\n<style scoped>\n    .dataframe tbody tr th:only-of-type {\n        vertical-align: middle;\n    }\n\n    .dataframe tbody tr th {\n        vertical-align: top;\n    }\n\n    .dataframe thead th {\n        text-align: right;\n    }\n</style>\n<table border=\"1\" class=\"dataframe\">\n  <thead>\n    <tr style=\"text-align: right;\">\n      <th></th>\n      <th>Year</th>\n      <th>Population</th>\n      <th>Annual CO₂ emissions</th>\n      <th>Total CO₂ emissions</th>\n    </tr>\n  </thead>\n  <tbody>\n    <tr>\n      <th>0</th>\n      <td>1800</td>\n      <td>985340629</td>\n      <td>3.279835e+07</td>\n      <td>3.279835e+07</td>\n    </tr>\n    <tr>\n      <th>1</th>\n      <td>1801</td>\n      <td>987628322</td>\n      <td>3.198605e+07</td>\n      <td>6.478440e+07</td>\n    </tr>\n    <tr>\n      <th>2</th>\n      <td>1802</td>\n      <td>991098738</td>\n      <td>4.031048e+07</td>\n      <td>1.050949e+08</td>\n    </tr>\n    <tr>\n      <th>3</th>\n      <td>1803</td>\n      <td>994610260</td>\n      <td>2.953851e+07</td>\n      <td>1.346334e+08</td>\n    </tr>\n    <tr>\n      <th>4</th>\n      <td>1804</td>\n      <td>998163240</td>\n      <td>3.176918e+07</td>\n      <td>1.664026e+08</td>\n    </tr>\n    <tr>\n      <th>...</th>\n      <td>...</td>\n      <td>...</td>\n      <td>...</td>\n      <td>...</td>\n    </tr>\n    <tr>\n      <th>217</th>\n      <td>2017</td>\n      <td>7599822336</td>\n      <td>3.602546e+10</td>\n      <td>1.589327e+12</td>\n    </tr>\n    <tr>\n      <th>218</th>\n      <td>2018</td>\n      <td>7683789824</td>\n      <td>3.676694e+10</td>\n      <td>1.626094e+12</td>\n    </tr>\n    <tr>\n      <th>219</th>\n      <td>2019</td>\n      <td>7764951040</td>\n      <td>3.704010e+10</td>\n      <td>1.663134e+12</td>\n    </tr>\n    <tr>\n      <th>220</th>\n      <td>2020</td>\n      <td>7840952832</td>\n      <td>3.500774e+10</td>\n      <td>1.698142e+12</td>\n    </tr>\n    <tr>\n      <th>221</th>\n      <td>2021</td>\n      <td>7909295104</td>\n      <td>3.681654e+10</td>\n      <td>1.734959e+12</td>\n    </tr>\n  </tbody>\n</table>\n<p>222 rows × 4 columns</p>\n</div>"
     },
     "execution_count": 4,
     "metadata": {},
     "output_type": "execute_result"
    }
   ],
   "source": [
    "df"
   ],
   "metadata": {
    "collapsed": false,
    "ExecuteTime": {
     "end_time": "2024-04-16T07:39:51.994062113Z",
     "start_time": "2024-04-16T07:39:51.989657208Z"
    }
   },
   "id": "29ddbf22075e61ff",
   "execution_count": 4
  },
  {
   "cell_type": "code",
   "outputs": [],
   "source": [
    "# save the merged dataframe to a new csv file\n",
    "df.to_csv('population_co2.csv', index=False)"
   ],
   "metadata": {
    "collapsed": false,
    "ExecuteTime": {
     "end_time": "2024-04-01T09:56:56.549608638Z",
     "start_time": "2024-04-01T09:56:56.530214910Z"
    }
   },
   "id": "2b0971d5b7cc4dea",
   "execution_count": 11
  },
  {
   "cell_type": "code",
   "outputs": [],
   "source": [
    "# create a new column for the population increase every year\n",
    "df['Population Increase'] = df['Population'].diff()"
   ],
   "metadata": {
    "collapsed": false,
    "ExecuteTime": {
     "end_time": "2024-04-16T07:40:01.402770751Z",
     "start_time": "2024-04-16T07:40:01.394832111Z"
    }
   },
   "id": "faae3dccbc67e3dc",
   "execution_count": 5
  },
  {
   "cell_type": "code",
   "outputs": [
    {
     "data": {
      "text/plain": "     Year  Population  Annual CO₂ emissions  Total CO₂ emissions  \\\n0    1800   985340629          3.279835e+07         3.279835e+07   \n1    1801   987628322          3.198605e+07         6.478440e+07   \n2    1802   991098738          4.031048e+07         1.050949e+08   \n3    1803   994610260          2.953851e+07         1.346334e+08   \n4    1804   998163240          3.176918e+07         1.664026e+08   \n..    ...         ...                   ...                  ...   \n217  2017  7599822336          3.602546e+10         1.589327e+12   \n218  2018  7683789824          3.676694e+10         1.626094e+12   \n219  2019  7764951040          3.704010e+10         1.663134e+12   \n220  2020  7840952832          3.500774e+10         1.698142e+12   \n221  2021  7909295104          3.681654e+10         1.734959e+12   \n\n     Population Increase  \n0                    NaN  \n1              2287693.0  \n2              3470416.0  \n3              3511522.0  \n4              3552980.0  \n..                   ...  \n217           86348288.0  \n218           83967488.0  \n219           81161216.0  \n220           76001792.0  \n221           68342272.0  \n\n[222 rows x 5 columns]",
      "text/html": "<div>\n<style scoped>\n    .dataframe tbody tr th:only-of-type {\n        vertical-align: middle;\n    }\n\n    .dataframe tbody tr th {\n        vertical-align: top;\n    }\n\n    .dataframe thead th {\n        text-align: right;\n    }\n</style>\n<table border=\"1\" class=\"dataframe\">\n  <thead>\n    <tr style=\"text-align: right;\">\n      <th></th>\n      <th>Year</th>\n      <th>Population</th>\n      <th>Annual CO₂ emissions</th>\n      <th>Total CO₂ emissions</th>\n      <th>Population Increase</th>\n    </tr>\n  </thead>\n  <tbody>\n    <tr>\n      <th>0</th>\n      <td>1800</td>\n      <td>985340629</td>\n      <td>3.279835e+07</td>\n      <td>3.279835e+07</td>\n      <td>NaN</td>\n    </tr>\n    <tr>\n      <th>1</th>\n      <td>1801</td>\n      <td>987628322</td>\n      <td>3.198605e+07</td>\n      <td>6.478440e+07</td>\n      <td>2287693.0</td>\n    </tr>\n    <tr>\n      <th>2</th>\n      <td>1802</td>\n      <td>991098738</td>\n      <td>4.031048e+07</td>\n      <td>1.050949e+08</td>\n      <td>3470416.0</td>\n    </tr>\n    <tr>\n      <th>3</th>\n      <td>1803</td>\n      <td>994610260</td>\n      <td>2.953851e+07</td>\n      <td>1.346334e+08</td>\n      <td>3511522.0</td>\n    </tr>\n    <tr>\n      <th>4</th>\n      <td>1804</td>\n      <td>998163240</td>\n      <td>3.176918e+07</td>\n      <td>1.664026e+08</td>\n      <td>3552980.0</td>\n    </tr>\n    <tr>\n      <th>...</th>\n      <td>...</td>\n      <td>...</td>\n      <td>...</td>\n      <td>...</td>\n      <td>...</td>\n    </tr>\n    <tr>\n      <th>217</th>\n      <td>2017</td>\n      <td>7599822336</td>\n      <td>3.602546e+10</td>\n      <td>1.589327e+12</td>\n      <td>86348288.0</td>\n    </tr>\n    <tr>\n      <th>218</th>\n      <td>2018</td>\n      <td>7683789824</td>\n      <td>3.676694e+10</td>\n      <td>1.626094e+12</td>\n      <td>83967488.0</td>\n    </tr>\n    <tr>\n      <th>219</th>\n      <td>2019</td>\n      <td>7764951040</td>\n      <td>3.704010e+10</td>\n      <td>1.663134e+12</td>\n      <td>81161216.0</td>\n    </tr>\n    <tr>\n      <th>220</th>\n      <td>2020</td>\n      <td>7840952832</td>\n      <td>3.500774e+10</td>\n      <td>1.698142e+12</td>\n      <td>76001792.0</td>\n    </tr>\n    <tr>\n      <th>221</th>\n      <td>2021</td>\n      <td>7909295104</td>\n      <td>3.681654e+10</td>\n      <td>1.734959e+12</td>\n      <td>68342272.0</td>\n    </tr>\n  </tbody>\n</table>\n<p>222 rows × 5 columns</p>\n</div>"
     },
     "execution_count": 6,
     "metadata": {},
     "output_type": "execute_result"
    }
   ],
   "source": [
    "df\n"
   ],
   "metadata": {
    "collapsed": false,
    "ExecuteTime": {
     "end_time": "2024-04-16T07:40:02.204671254Z",
     "start_time": "2024-04-16T07:40:02.160984333Z"
    }
   },
   "id": "5a040334bec4336d",
   "execution_count": 6
  },
  {
   "cell_type": "code",
   "outputs": [],
   "source": [
    "# remove the first row since it has a NaN value\n",
    "df = df.dropna()"
   ],
   "metadata": {
    "collapsed": false,
    "ExecuteTime": {
     "end_time": "2024-04-16T07:40:04.646288348Z",
     "start_time": "2024-04-16T07:40:04.640260165Z"
    }
   },
   "id": "bc47a6e495e6b083",
   "execution_count": 7
  },
  {
   "cell_type": "code",
   "outputs": [
    {
     "data": {
      "text/plain": "     Year  Population  Annual CO₂ emissions  Total CO₂ emissions  \\\n1    1801   987628322          3.198605e+07         6.478440e+07   \n2    1802   991098738          4.031048e+07         1.050949e+08   \n3    1803   994610260          2.953851e+07         1.346334e+08   \n4    1804   998163240          3.176918e+07         1.664026e+08   \n5    1805  1001758044          3.125182e+07         1.976544e+08   \n..    ...         ...                   ...                  ...   \n217  2017  7599822336          3.602546e+10         1.589327e+12   \n218  2018  7683789824          3.676694e+10         1.626094e+12   \n219  2019  7764951040          3.704010e+10         1.663134e+12   \n220  2020  7840952832          3.500774e+10         1.698142e+12   \n221  2021  7909295104          3.681654e+10         1.734959e+12   \n\n     Population Increase  \n1              2287693.0  \n2              3470416.0  \n3              3511522.0  \n4              3552980.0  \n5              3594804.0  \n..                   ...  \n217           86348288.0  \n218           83967488.0  \n219           81161216.0  \n220           76001792.0  \n221           68342272.0  \n\n[221 rows x 5 columns]",
      "text/html": "<div>\n<style scoped>\n    .dataframe tbody tr th:only-of-type {\n        vertical-align: middle;\n    }\n\n    .dataframe tbody tr th {\n        vertical-align: top;\n    }\n\n    .dataframe thead th {\n        text-align: right;\n    }\n</style>\n<table border=\"1\" class=\"dataframe\">\n  <thead>\n    <tr style=\"text-align: right;\">\n      <th></th>\n      <th>Year</th>\n      <th>Population</th>\n      <th>Annual CO₂ emissions</th>\n      <th>Total CO₂ emissions</th>\n      <th>Population Increase</th>\n    </tr>\n  </thead>\n  <tbody>\n    <tr>\n      <th>1</th>\n      <td>1801</td>\n      <td>987628322</td>\n      <td>3.198605e+07</td>\n      <td>6.478440e+07</td>\n      <td>2287693.0</td>\n    </tr>\n    <tr>\n      <th>2</th>\n      <td>1802</td>\n      <td>991098738</td>\n      <td>4.031048e+07</td>\n      <td>1.050949e+08</td>\n      <td>3470416.0</td>\n    </tr>\n    <tr>\n      <th>3</th>\n      <td>1803</td>\n      <td>994610260</td>\n      <td>2.953851e+07</td>\n      <td>1.346334e+08</td>\n      <td>3511522.0</td>\n    </tr>\n    <tr>\n      <th>4</th>\n      <td>1804</td>\n      <td>998163240</td>\n      <td>3.176918e+07</td>\n      <td>1.664026e+08</td>\n      <td>3552980.0</td>\n    </tr>\n    <tr>\n      <th>5</th>\n      <td>1805</td>\n      <td>1001758044</td>\n      <td>3.125182e+07</td>\n      <td>1.976544e+08</td>\n      <td>3594804.0</td>\n    </tr>\n    <tr>\n      <th>...</th>\n      <td>...</td>\n      <td>...</td>\n      <td>...</td>\n      <td>...</td>\n      <td>...</td>\n    </tr>\n    <tr>\n      <th>217</th>\n      <td>2017</td>\n      <td>7599822336</td>\n      <td>3.602546e+10</td>\n      <td>1.589327e+12</td>\n      <td>86348288.0</td>\n    </tr>\n    <tr>\n      <th>218</th>\n      <td>2018</td>\n      <td>7683789824</td>\n      <td>3.676694e+10</td>\n      <td>1.626094e+12</td>\n      <td>83967488.0</td>\n    </tr>\n    <tr>\n      <th>219</th>\n      <td>2019</td>\n      <td>7764951040</td>\n      <td>3.704010e+10</td>\n      <td>1.663134e+12</td>\n      <td>81161216.0</td>\n    </tr>\n    <tr>\n      <th>220</th>\n      <td>2020</td>\n      <td>7840952832</td>\n      <td>3.500774e+10</td>\n      <td>1.698142e+12</td>\n      <td>76001792.0</td>\n    </tr>\n    <tr>\n      <th>221</th>\n      <td>2021</td>\n      <td>7909295104</td>\n      <td>3.681654e+10</td>\n      <td>1.734959e+12</td>\n      <td>68342272.0</td>\n    </tr>\n  </tbody>\n</table>\n<p>221 rows × 5 columns</p>\n</div>"
     },
     "execution_count": 8,
     "metadata": {},
     "output_type": "execute_result"
    }
   ],
   "source": [
    "df"
   ],
   "metadata": {
    "collapsed": false,
    "ExecuteTime": {
     "end_time": "2024-04-16T07:40:05.149059635Z",
     "start_time": "2024-04-16T07:40:05.129108477Z"
    }
   },
   "id": "9968e5ec7bafabb1",
   "execution_count": 8
  },
  {
   "cell_type": "code",
   "outputs": [],
   "source": [
    "df1 = df[['Year', 'Population Increase']]\n",
    "df2 = df[['Population', 'Total CO₂ emissions']]"
   ],
   "metadata": {
    "collapsed": false,
    "ExecuteTime": {
     "end_time": "2024-04-16T07:40:24.758719577Z",
     "start_time": "2024-04-16T07:40:24.712917035Z"
    }
   },
   "id": "99b28e41e892279a",
   "execution_count": 9
  },
  {
   "cell_type": "code",
   "outputs": [],
   "source": [
    "df1.to_csv('population_increase_yearly.csv', index=False)"
   ],
   "metadata": {
    "collapsed": false,
    "ExecuteTime": {
     "end_time": "2024-04-16T07:40:33.714627159Z",
     "start_time": "2024-04-16T07:40:33.708313979Z"
    }
   },
   "id": "e2e0e479274b2be5",
   "execution_count": 10
  },
  {
   "cell_type": "code",
   "outputs": [],
   "source": [
    "df2.to_csv('population_vs_total_co2.csv', index=False)"
   ],
   "metadata": {
    "collapsed": false,
    "ExecuteTime": {
     "end_time": "2024-04-01T09:58:53.982419692Z",
     "start_time": "2024-04-01T09:58:53.895571871Z"
    }
   },
   "id": "453ab01729526313",
   "execution_count": 15
  },
  {
   "cell_type": "code",
   "outputs": [],
   "source": [],
   "metadata": {
    "collapsed": false
   },
   "id": "c5bc1577063c4ea5"
  }
 ],
 "metadata": {
  "kernelspec": {
   "display_name": "Python 3",
   "language": "python",
   "name": "python3"
  },
  "language_info": {
   "codemirror_mode": {
    "name": "ipython",
    "version": 2
   },
   "file_extension": ".py",
   "mimetype": "text/x-python",
   "name": "python",
   "nbconvert_exporter": "python",
   "pygments_lexer": "ipython2",
   "version": "2.7.6"
  }
 },
 "nbformat": 4,
 "nbformat_minor": 5
}
