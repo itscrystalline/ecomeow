{
 "cells": [
  {
   "cell_type": "code",
   "execution_count": 20,
   "id": "initial_id",
   "metadata": {
    "collapsed": true,
    "ExecuteTime": {
     "end_time": "2024-04-16T08:07:02.095559893Z",
     "start_time": "2024-04-16T08:07:02.088710322Z"
    }
   },
   "outputs": [],
   "source": [
    "import pandas as pd\n",
    "import numpy as np"
   ]
  },
  {
   "cell_type": "code",
   "outputs": [],
   "source": [
    "population = pd.read_csv('population_increase_yearly.csv')\n",
    "energy = pd.read_csv('global-primary-energy(fossil&renewable).csv').drop(columns=['Code', 'Entity'])"
   ],
   "metadata": {
    "collapsed": false,
    "ExecuteTime": {
     "end_time": "2024-04-16T08:07:02.613510866Z",
     "start_time": "2024-04-16T08:07:02.603924288Z"
    }
   },
   "id": "ad06338a4cadb374",
   "execution_count": 21
  },
  {
   "cell_type": "code",
   "outputs": [],
   "source": [
    "totalEnergy = energy.drop(columns=['Total Renewable (TWh, direct energy)', 'Total Fossil Fuel (TWh,direction energy)'])"
   ],
   "metadata": {
    "collapsed": false,
    "ExecuteTime": {
     "end_time": "2024-04-16T08:07:03.125265979Z",
     "start_time": "2024-04-16T08:07:03.119268793Z"
    }
   },
   "id": "5412c677b0498808",
   "execution_count": 22
  },
  {
   "cell_type": "code",
   "outputs": [
    {
     "data": {
      "text/plain": "    Year  Other renewables (TWh, direct energy)  Solar (TWh, direct energy)  \\\n0   1800                                0.00000                     0.00000   \n1   1810                                0.00000                     0.00000   \n2   1820                                0.00000                     0.00000   \n3   1830                                0.00000                     0.00000   \n4   1840                                0.00000                     0.00000   \n..   ...                                    ...                         ...   \n70  2018                              636.21330                   575.76025   \n71  2019                              667.61945                   705.22516   \n72  2020                              702.98230                   854.37476   \n73  2021                              751.17690                  1059.29370   \n74  2022                              776.85657                  1322.61570   \n\n    Wind (TWh, direct energy)  Hydropower (TWh, direct energy)  \n0                      0.0000                           0.0000  \n1                      0.0000                           0.0000  \n2                      0.0000                           0.0000  \n3                      0.0000                           0.0000  \n4                      0.0000                           0.0000  \n..                        ...                              ...  \n70                  1269.5287                        4189.7570  \n71                  1420.6240                        4243.2876  \n72                  1593.9530                        4359.0120  \n73                  1854.1052                        4288.7830  \n74                  2104.8396                        4334.1900  \n\n[75 rows x 5 columns]",
      "text/html": "<div>\n<style scoped>\n    .dataframe tbody tr th:only-of-type {\n        vertical-align: middle;\n    }\n\n    .dataframe tbody tr th {\n        vertical-align: top;\n    }\n\n    .dataframe thead th {\n        text-align: right;\n    }\n</style>\n<table border=\"1\" class=\"dataframe\">\n  <thead>\n    <tr style=\"text-align: right;\">\n      <th></th>\n      <th>Year</th>\n      <th>Other renewables (TWh, direct energy)</th>\n      <th>Solar (TWh, direct energy)</th>\n      <th>Wind (TWh, direct energy)</th>\n      <th>Hydropower (TWh, direct energy)</th>\n    </tr>\n  </thead>\n  <tbody>\n    <tr>\n      <th>0</th>\n      <td>1800</td>\n      <td>0.00000</td>\n      <td>0.00000</td>\n      <td>0.0000</td>\n      <td>0.0000</td>\n    </tr>\n    <tr>\n      <th>1</th>\n      <td>1810</td>\n      <td>0.00000</td>\n      <td>0.00000</td>\n      <td>0.0000</td>\n      <td>0.0000</td>\n    </tr>\n    <tr>\n      <th>2</th>\n      <td>1820</td>\n      <td>0.00000</td>\n      <td>0.00000</td>\n      <td>0.0000</td>\n      <td>0.0000</td>\n    </tr>\n    <tr>\n      <th>3</th>\n      <td>1830</td>\n      <td>0.00000</td>\n      <td>0.00000</td>\n      <td>0.0000</td>\n      <td>0.0000</td>\n    </tr>\n    <tr>\n      <th>4</th>\n      <td>1840</td>\n      <td>0.00000</td>\n      <td>0.00000</td>\n      <td>0.0000</td>\n      <td>0.0000</td>\n    </tr>\n    <tr>\n      <th>...</th>\n      <td>...</td>\n      <td>...</td>\n      <td>...</td>\n      <td>...</td>\n      <td>...</td>\n    </tr>\n    <tr>\n      <th>70</th>\n      <td>2018</td>\n      <td>636.21330</td>\n      <td>575.76025</td>\n      <td>1269.5287</td>\n      <td>4189.7570</td>\n    </tr>\n    <tr>\n      <th>71</th>\n      <td>2019</td>\n      <td>667.61945</td>\n      <td>705.22516</td>\n      <td>1420.6240</td>\n      <td>4243.2876</td>\n    </tr>\n    <tr>\n      <th>72</th>\n      <td>2020</td>\n      <td>702.98230</td>\n      <td>854.37476</td>\n      <td>1593.9530</td>\n      <td>4359.0120</td>\n    </tr>\n    <tr>\n      <th>73</th>\n      <td>2021</td>\n      <td>751.17690</td>\n      <td>1059.29370</td>\n      <td>1854.1052</td>\n      <td>4288.7830</td>\n    </tr>\n    <tr>\n      <th>74</th>\n      <td>2022</td>\n      <td>776.85657</td>\n      <td>1322.61570</td>\n      <td>2104.8396</td>\n      <td>4334.1900</td>\n    </tr>\n  </tbody>\n</table>\n<p>75 rows × 5 columns</p>\n</div>"
     },
     "execution_count": 24,
     "metadata": {},
     "output_type": "execute_result"
    }
   ],
   "source": [
    "totalEnergy"
   ],
   "metadata": {
    "collapsed": false,
    "ExecuteTime": {
     "end_time": "2024-04-16T08:07:17.306599698Z",
     "start_time": "2024-04-16T08:07:17.299729832Z"
    }
   },
   "id": "d78fdfe604a25c33",
   "execution_count": 24
  },
  {
   "cell_type": "code",
   "outputs": [],
   "source": [
    "# merge the two dataframes on the \"Year\" column\n",
    "merged = pd.merge(population, totalEnergy, on='Year')"
   ],
   "metadata": {
    "collapsed": false,
    "ExecuteTime": {
     "end_time": "2024-04-16T08:16:45.471874135Z",
     "start_time": "2024-04-16T08:16:45.429689701Z"
    }
   },
   "id": "503fd236e9ca02e9",
   "execution_count": 27
  },
  {
   "cell_type": "code",
   "outputs": [
    {
     "data": {
      "text/plain": "    Year  Population Increase  Other renewables (TWh, direct energy)  \\\n0   1810            6065826.0                                0.00000   \n1   1820            8666988.0                                0.00000   \n2   1830            7720839.0                                0.00000   \n3   1840            6492183.0                                0.00000   \n4   1850            5415443.0                                0.00000   \n..   ...                  ...                                    ...   \n68  2017           86348288.0                              588.78033   \n69  2018           83967488.0                              636.21330   \n70  2019           81161216.0                              667.61945   \n71  2020           76001792.0                              702.98230   \n72  2021           68342272.0                              751.17690   \n\n    Solar (TWh, direct energy)  Wind (TWh, direct energy)  \\\n0                      0.00000                     0.0000   \n1                      0.00000                     0.0000   \n2                      0.00000                     0.0000   \n3                      0.00000                     0.0000   \n4                      0.00000                     0.0000   \n..                         ...                        ...   \n68                   445.47995                  1141.5242   \n69                   575.76025                  1269.5287   \n70                   705.22516                  1420.6240   \n71                   854.37476                  1593.9530   \n72                  1059.29370                  1854.1052   \n\n    Hydropower (TWh, direct energy)  \n0                            0.0000  \n1                            0.0000  \n2                            0.0000  \n3                            0.0000  \n4                            0.0000  \n..                              ...  \n68                        4071.2231  \n69                        4189.7570  \n70                        4243.2876  \n71                        4359.0120  \n72                        4288.7830  \n\n[73 rows x 6 columns]",
      "text/html": "<div>\n<style scoped>\n    .dataframe tbody tr th:only-of-type {\n        vertical-align: middle;\n    }\n\n    .dataframe tbody tr th {\n        vertical-align: top;\n    }\n\n    .dataframe thead th {\n        text-align: right;\n    }\n</style>\n<table border=\"1\" class=\"dataframe\">\n  <thead>\n    <tr style=\"text-align: right;\">\n      <th></th>\n      <th>Year</th>\n      <th>Population Increase</th>\n      <th>Other renewables (TWh, direct energy)</th>\n      <th>Solar (TWh, direct energy)</th>\n      <th>Wind (TWh, direct energy)</th>\n      <th>Hydropower (TWh, direct energy)</th>\n    </tr>\n  </thead>\n  <tbody>\n    <tr>\n      <th>0</th>\n      <td>1810</td>\n      <td>6065826.0</td>\n      <td>0.00000</td>\n      <td>0.00000</td>\n      <td>0.0000</td>\n      <td>0.0000</td>\n    </tr>\n    <tr>\n      <th>1</th>\n      <td>1820</td>\n      <td>8666988.0</td>\n      <td>0.00000</td>\n      <td>0.00000</td>\n      <td>0.0000</td>\n      <td>0.0000</td>\n    </tr>\n    <tr>\n      <th>2</th>\n      <td>1830</td>\n      <td>7720839.0</td>\n      <td>0.00000</td>\n      <td>0.00000</td>\n      <td>0.0000</td>\n      <td>0.0000</td>\n    </tr>\n    <tr>\n      <th>3</th>\n      <td>1840</td>\n      <td>6492183.0</td>\n      <td>0.00000</td>\n      <td>0.00000</td>\n      <td>0.0000</td>\n      <td>0.0000</td>\n    </tr>\n    <tr>\n      <th>4</th>\n      <td>1850</td>\n      <td>5415443.0</td>\n      <td>0.00000</td>\n      <td>0.00000</td>\n      <td>0.0000</td>\n      <td>0.0000</td>\n    </tr>\n    <tr>\n      <th>...</th>\n      <td>...</td>\n      <td>...</td>\n      <td>...</td>\n      <td>...</td>\n      <td>...</td>\n      <td>...</td>\n    </tr>\n    <tr>\n      <th>68</th>\n      <td>2017</td>\n      <td>86348288.0</td>\n      <td>588.78033</td>\n      <td>445.47995</td>\n      <td>1141.5242</td>\n      <td>4071.2231</td>\n    </tr>\n    <tr>\n      <th>69</th>\n      <td>2018</td>\n      <td>83967488.0</td>\n      <td>636.21330</td>\n      <td>575.76025</td>\n      <td>1269.5287</td>\n      <td>4189.7570</td>\n    </tr>\n    <tr>\n      <th>70</th>\n      <td>2019</td>\n      <td>81161216.0</td>\n      <td>667.61945</td>\n      <td>705.22516</td>\n      <td>1420.6240</td>\n      <td>4243.2876</td>\n    </tr>\n    <tr>\n      <th>71</th>\n      <td>2020</td>\n      <td>76001792.0</td>\n      <td>702.98230</td>\n      <td>854.37476</td>\n      <td>1593.9530</td>\n      <td>4359.0120</td>\n    </tr>\n    <tr>\n      <th>72</th>\n      <td>2021</td>\n      <td>68342272.0</td>\n      <td>751.17690</td>\n      <td>1059.29370</td>\n      <td>1854.1052</td>\n      <td>4288.7830</td>\n    </tr>\n  </tbody>\n</table>\n<p>73 rows × 6 columns</p>\n</div>"
     },
     "execution_count": 28,
     "metadata": {},
     "output_type": "execute_result"
    }
   ],
   "source": [
    "merged"
   ],
   "metadata": {
    "collapsed": false,
    "ExecuteTime": {
     "end_time": "2024-04-16T08:16:46.227346422Z",
     "start_time": "2024-04-16T08:16:46.221747062Z"
    }
   },
   "id": "9024ee3d832a9cd7",
   "execution_count": 28
  },
  {
   "cell_type": "code",
   "outputs": [],
   "source": [
    "merged = merged.drop(columns=['Year'])"
   ],
   "metadata": {
    "collapsed": false,
    "ExecuteTime": {
     "end_time": "2024-04-16T08:16:49.058405476Z",
     "start_time": "2024-04-16T08:16:49.051873251Z"
    }
   },
   "id": "85f49ed413f4e9be",
   "execution_count": 29
  },
  {
   "cell_type": "code",
   "outputs": [
    {
     "data": {
      "text/plain": "    Population Increase  Other renewables (TWh, direct energy)  \\\n0             6065826.0                                0.00000   \n1             8666988.0                                0.00000   \n2             7720839.0                                0.00000   \n3             6492183.0                                0.00000   \n4             5415443.0                                0.00000   \n..                  ...                                    ...   \n68           86348288.0                              588.78033   \n69           83967488.0                              636.21330   \n70           81161216.0                              667.61945   \n71           76001792.0                              702.98230   \n72           68342272.0                              751.17690   \n\n    Solar (TWh, direct energy)  Wind (TWh, direct energy)  \\\n0                      0.00000                     0.0000   \n1                      0.00000                     0.0000   \n2                      0.00000                     0.0000   \n3                      0.00000                     0.0000   \n4                      0.00000                     0.0000   \n..                         ...                        ...   \n68                   445.47995                  1141.5242   \n69                   575.76025                  1269.5287   \n70                   705.22516                  1420.6240   \n71                   854.37476                  1593.9530   \n72                  1059.29370                  1854.1052   \n\n    Hydropower (TWh, direct energy)  \n0                            0.0000  \n1                            0.0000  \n2                            0.0000  \n3                            0.0000  \n4                            0.0000  \n..                              ...  \n68                        4071.2231  \n69                        4189.7570  \n70                        4243.2876  \n71                        4359.0120  \n72                        4288.7830  \n\n[73 rows x 5 columns]",
      "text/html": "<div>\n<style scoped>\n    .dataframe tbody tr th:only-of-type {\n        vertical-align: middle;\n    }\n\n    .dataframe tbody tr th {\n        vertical-align: top;\n    }\n\n    .dataframe thead th {\n        text-align: right;\n    }\n</style>\n<table border=\"1\" class=\"dataframe\">\n  <thead>\n    <tr style=\"text-align: right;\">\n      <th></th>\n      <th>Population Increase</th>\n      <th>Other renewables (TWh, direct energy)</th>\n      <th>Solar (TWh, direct energy)</th>\n      <th>Wind (TWh, direct energy)</th>\n      <th>Hydropower (TWh, direct energy)</th>\n    </tr>\n  </thead>\n  <tbody>\n    <tr>\n      <th>0</th>\n      <td>6065826.0</td>\n      <td>0.00000</td>\n      <td>0.00000</td>\n      <td>0.0000</td>\n      <td>0.0000</td>\n    </tr>\n    <tr>\n      <th>1</th>\n      <td>8666988.0</td>\n      <td>0.00000</td>\n      <td>0.00000</td>\n      <td>0.0000</td>\n      <td>0.0000</td>\n    </tr>\n    <tr>\n      <th>2</th>\n      <td>7720839.0</td>\n      <td>0.00000</td>\n      <td>0.00000</td>\n      <td>0.0000</td>\n      <td>0.0000</td>\n    </tr>\n    <tr>\n      <th>3</th>\n      <td>6492183.0</td>\n      <td>0.00000</td>\n      <td>0.00000</td>\n      <td>0.0000</td>\n      <td>0.0000</td>\n    </tr>\n    <tr>\n      <th>4</th>\n      <td>5415443.0</td>\n      <td>0.00000</td>\n      <td>0.00000</td>\n      <td>0.0000</td>\n      <td>0.0000</td>\n    </tr>\n    <tr>\n      <th>...</th>\n      <td>...</td>\n      <td>...</td>\n      <td>...</td>\n      <td>...</td>\n      <td>...</td>\n    </tr>\n    <tr>\n      <th>68</th>\n      <td>86348288.0</td>\n      <td>588.78033</td>\n      <td>445.47995</td>\n      <td>1141.5242</td>\n      <td>4071.2231</td>\n    </tr>\n    <tr>\n      <th>69</th>\n      <td>83967488.0</td>\n      <td>636.21330</td>\n      <td>575.76025</td>\n      <td>1269.5287</td>\n      <td>4189.7570</td>\n    </tr>\n    <tr>\n      <th>70</th>\n      <td>81161216.0</td>\n      <td>667.61945</td>\n      <td>705.22516</td>\n      <td>1420.6240</td>\n      <td>4243.2876</td>\n    </tr>\n    <tr>\n      <th>71</th>\n      <td>76001792.0</td>\n      <td>702.98230</td>\n      <td>854.37476</td>\n      <td>1593.9530</td>\n      <td>4359.0120</td>\n    </tr>\n    <tr>\n      <th>72</th>\n      <td>68342272.0</td>\n      <td>751.17690</td>\n      <td>1059.29370</td>\n      <td>1854.1052</td>\n      <td>4288.7830</td>\n    </tr>\n  </tbody>\n</table>\n<p>73 rows × 5 columns</p>\n</div>"
     },
     "execution_count": 30,
     "metadata": {},
     "output_type": "execute_result"
    }
   ],
   "source": [
    "merged"
   ],
   "metadata": {
    "collapsed": false,
    "ExecuteTime": {
     "end_time": "2024-04-16T08:16:51.558386328Z",
     "start_time": "2024-04-16T08:16:51.502035957Z"
    }
   },
   "id": "c9b99f5f77ce3870",
   "execution_count": 30
  },
  {
   "cell_type": "code",
   "outputs": [],
   "source": [
    "merged = merged[merged['Hydropower (TWh, direct energy)'] > 0]"
   ],
   "metadata": {
    "collapsed": false,
    "ExecuteTime": {
     "end_time": "2024-04-16T08:17:18.686694952Z",
     "start_time": "2024-04-16T08:17:18.673177243Z"
    }
   },
   "id": "98191cc135cd3d91",
   "execution_count": 31
  },
  {
   "cell_type": "code",
   "outputs": [
    {
     "data": {
      "text/plain": "    Population Increase  Other renewables (TWh, direct energy)  \\\n8            12295431.0                                0.00000   \n9            13774011.0                                0.00000   \n10           15724988.0                                0.00000   \n11           17031792.0                                0.00000   \n12           22082664.0                                0.00000   \n..                  ...                                    ...   \n68           86348288.0                              588.78033   \n69           83967488.0                              636.21330   \n70           81161216.0                              667.61945   \n71           76001792.0                              702.98230   \n72           68342272.0                              751.17690   \n\n    Solar (TWh, direct energy)  Wind (TWh, direct energy)  \\\n8                      0.00000                     0.0000   \n9                      0.00000                     0.0000   \n10                     0.00000                     0.0000   \n11                     0.00000                     0.0000   \n12                     0.00000                     0.0000   \n..                         ...                        ...   \n68                   445.47995                  1141.5242   \n69                   575.76025                  1269.5287   \n70                   705.22516                  1420.6240   \n71                   854.37476                  1593.9530   \n72                  1059.29370                  1854.1052   \n\n    Hydropower (TWh, direct energy)  \n8                           14.0000  \n9                           17.0000  \n10                          33.0000  \n11                          64.0000  \n12                         131.0000  \n..                              ...  \n68                        4071.2231  \n69                        4189.7570  \n70                        4243.2876  \n71                        4359.0120  \n72                        4288.7830  \n\n[65 rows x 5 columns]",
      "text/html": "<div>\n<style scoped>\n    .dataframe tbody tr th:only-of-type {\n        vertical-align: middle;\n    }\n\n    .dataframe tbody tr th {\n        vertical-align: top;\n    }\n\n    .dataframe thead th {\n        text-align: right;\n    }\n</style>\n<table border=\"1\" class=\"dataframe\">\n  <thead>\n    <tr style=\"text-align: right;\">\n      <th></th>\n      <th>Population Increase</th>\n      <th>Other renewables (TWh, direct energy)</th>\n      <th>Solar (TWh, direct energy)</th>\n      <th>Wind (TWh, direct energy)</th>\n      <th>Hydropower (TWh, direct energy)</th>\n    </tr>\n  </thead>\n  <tbody>\n    <tr>\n      <th>8</th>\n      <td>12295431.0</td>\n      <td>0.00000</td>\n      <td>0.00000</td>\n      <td>0.0000</td>\n      <td>14.0000</td>\n    </tr>\n    <tr>\n      <th>9</th>\n      <td>13774011.0</td>\n      <td>0.00000</td>\n      <td>0.00000</td>\n      <td>0.0000</td>\n      <td>17.0000</td>\n    </tr>\n    <tr>\n      <th>10</th>\n      <td>15724988.0</td>\n      <td>0.00000</td>\n      <td>0.00000</td>\n      <td>0.0000</td>\n      <td>33.0000</td>\n    </tr>\n    <tr>\n      <th>11</th>\n      <td>17031792.0</td>\n      <td>0.00000</td>\n      <td>0.00000</td>\n      <td>0.0000</td>\n      <td>64.0000</td>\n    </tr>\n    <tr>\n      <th>12</th>\n      <td>22082664.0</td>\n      <td>0.00000</td>\n      <td>0.00000</td>\n      <td>0.0000</td>\n      <td>131.0000</td>\n    </tr>\n    <tr>\n      <th>...</th>\n      <td>...</td>\n      <td>...</td>\n      <td>...</td>\n      <td>...</td>\n      <td>...</td>\n    </tr>\n    <tr>\n      <th>68</th>\n      <td>86348288.0</td>\n      <td>588.78033</td>\n      <td>445.47995</td>\n      <td>1141.5242</td>\n      <td>4071.2231</td>\n    </tr>\n    <tr>\n      <th>69</th>\n      <td>83967488.0</td>\n      <td>636.21330</td>\n      <td>575.76025</td>\n      <td>1269.5287</td>\n      <td>4189.7570</td>\n    </tr>\n    <tr>\n      <th>70</th>\n      <td>81161216.0</td>\n      <td>667.61945</td>\n      <td>705.22516</td>\n      <td>1420.6240</td>\n      <td>4243.2876</td>\n    </tr>\n    <tr>\n      <th>71</th>\n      <td>76001792.0</td>\n      <td>702.98230</td>\n      <td>854.37476</td>\n      <td>1593.9530</td>\n      <td>4359.0120</td>\n    </tr>\n    <tr>\n      <th>72</th>\n      <td>68342272.0</td>\n      <td>751.17690</td>\n      <td>1059.29370</td>\n      <td>1854.1052</td>\n      <td>4288.7830</td>\n    </tr>\n  </tbody>\n</table>\n<p>65 rows × 5 columns</p>\n</div>"
     },
     "execution_count": 32,
     "metadata": {},
     "output_type": "execute_result"
    }
   ],
   "source": [
    "merged"
   ],
   "metadata": {
    "collapsed": false,
    "ExecuteTime": {
     "end_time": "2024-04-16T08:17:19.334023834Z",
     "start_time": "2024-04-16T08:17:19.308863105Z"
    }
   },
   "id": "ce8f47ceb8e43bbf",
   "execution_count": 32
  },
  {
   "cell_type": "code",
   "outputs": [
    {
     "data": {
      "text/plain": "       Year  Population (historical estimates)\n57130  1800                          985340629\n57131  1801                          987628322\n57132  1802                          991098738\n57133  1803                          994610260\n57134  1804                          998163240\n...     ...                                ...\n57347  2017                         7599822336\n57348  2018                         7683789824\n57349  2019                         7764951040\n57350  2020                         7840952832\n57351  2021                         7909295104\n\n[222 rows x 2 columns]",
      "text/html": "<div>\n<style scoped>\n    .dataframe tbody tr th:only-of-type {\n        vertical-align: middle;\n    }\n\n    .dataframe tbody tr th {\n        vertical-align: top;\n    }\n\n    .dataframe thead th {\n        text-align: right;\n    }\n</style>\n<table border=\"1\" class=\"dataframe\">\n  <thead>\n    <tr style=\"text-align: right;\">\n      <th></th>\n      <th>Year</th>\n      <th>Population (historical estimates)</th>\n    </tr>\n  </thead>\n  <tbody>\n    <tr>\n      <th>57130</th>\n      <td>1800</td>\n      <td>985340629</td>\n    </tr>\n    <tr>\n      <th>57131</th>\n      <td>1801</td>\n      <td>987628322</td>\n    </tr>\n    <tr>\n      <th>57132</th>\n      <td>1802</td>\n      <td>991098738</td>\n    </tr>\n    <tr>\n      <th>57133</th>\n      <td>1803</td>\n      <td>994610260</td>\n    </tr>\n    <tr>\n      <th>57134</th>\n      <td>1804</td>\n      <td>998163240</td>\n    </tr>\n    <tr>\n      <th>...</th>\n      <td>...</td>\n      <td>...</td>\n    </tr>\n    <tr>\n      <th>57347</th>\n      <td>2017</td>\n      <td>7599822336</td>\n    </tr>\n    <tr>\n      <th>57348</th>\n      <td>2018</td>\n      <td>7683789824</td>\n    </tr>\n    <tr>\n      <th>57349</th>\n      <td>2019</td>\n      <td>7764951040</td>\n    </tr>\n    <tr>\n      <th>57350</th>\n      <td>2020</td>\n      <td>7840952832</td>\n    </tr>\n    <tr>\n      <th>57351</th>\n      <td>2021</td>\n      <td>7909295104</td>\n    </tr>\n  </tbody>\n</table>\n<p>222 rows × 2 columns</p>\n</div>"
     },
     "execution_count": 30,
     "metadata": {},
     "output_type": "execute_result"
    }
   ],
   "source": [
    "population"
   ],
   "metadata": {
    "collapsed": false,
    "ExecuteTime": {
     "end_time": "2024-04-01T07:58:55.197817803Z",
     "start_time": "2024-04-01T07:58:55.153286326Z"
    }
   },
   "id": "d25aa80aab1615ab",
   "execution_count": 30
  },
  {
   "cell_type": "code",
   "outputs": [],
   "source": [
    "# dump the deltaChanges dataframe to a CSV file, excluding the year index\n",
    "# merged = merged.drop(columns=['Year'])\n",
    "# convert all data columns to integers\n",
    "\n",
    "merged.to_csv('population_increase_vs_renewable_energies.csv', index=False)"
   ],
   "metadata": {
    "collapsed": false,
    "ExecuteTime": {
     "end_time": "2024-04-16T08:17:57.089512148Z",
     "start_time": "2024-04-16T08:17:57.039587736Z"
    }
   },
   "id": "233ea8aa3855230e",
   "execution_count": 33
  },
  {
   "cell_type": "code",
   "outputs": [],
   "source": [],
   "metadata": {
    "collapsed": false
   },
   "id": "26e3b65798022493",
   "execution_count": null
  }
 ],
 "metadata": {
  "kernelspec": {
   "display_name": "Python 3",
   "language": "python",
   "name": "python3"
  },
  "language_info": {
   "codemirror_mode": {
    "name": "ipython",
    "version": 2
   },
   "file_extension": ".py",
   "mimetype": "text/x-python",
   "name": "python",
   "nbconvert_exporter": "python",
   "pygments_lexer": "ipython2",
   "version": "2.7.6"
  }
 },
 "nbformat": 4,
 "nbformat_minor": 5
}
