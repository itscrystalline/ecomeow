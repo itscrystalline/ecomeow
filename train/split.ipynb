{
 "cells": [
  {
   "cell_type": "code",
   "execution_count": 20,
   "id": "initial_id",
   "metadata": {
    "collapsed": true,
    "ExecuteTime": {
     "end_time": "2024-04-01T04:15:07.502578708Z",
     "start_time": "2024-04-01T04:15:07.453606675Z"
    }
   },
   "outputs": [],
   "source": [
    "import pandas as pd\n",
    "\n",
    "file = \"historical.csv\"\n",
    "df = pd.read_csv(file)\n",
    "\n",
    "populationGrowth = pd.DataFrame(columns=[\"Population Growth\", \"Annual CO₂ emissions\"])\n",
    "totalCO2Emissions = pd.DataFrame(columns=[\"Population\", \"Total CO₂ emissions\"])"
   ]
  },
  {
   "cell_type": "code",
   "outputs": [],
   "source": [
    "# make the population column increasing of each other, and the CO2 emissions column the same\n",
    "# then put them in the populationGrowth dataframe\n",
    "# USING PANDAS 2, you cant use .append() because it is deprecated\n",
    "\n",
    "for i in range(1, len(df)):\n",
    "    populationGrowth.loc[i-1] = [df[\"Population\"][i] - df[\"Population\"][i-1], df[\"Annual CO₂ emissions\"][i]]\n",
    "    "
   ],
   "metadata": {
    "collapsed": false,
    "ExecuteTime": {
     "end_time": "2024-04-01T04:15:08.086594287Z",
     "start_time": "2024-04-01T04:15:08.077066138Z"
    }
   },
   "id": "8759a8106258f4cf",
   "execution_count": 21
  },
  {
   "cell_type": "code",
   "outputs": [
    {
     "data": {
      "text/plain": "    Population Growth  Annual CO₂ emissions\n0          43808400.0          6.381406e+09\n1          47140600.0          6.467437e+09\n2          50007800.0          6.650862e+09\n3          51700500.0          6.789497e+09\n4          54092700.0          7.443861e+09\n..                ...                   ...\n65         86876600.0          3.546003e+10\n66         86348300.0          3.602546e+10\n67         83967700.0          3.676694e+10\n68         81161000.0          3.704010e+10\n69         76002000.0          3.500774e+10\n\n[70 rows x 2 columns]",
      "text/html": "<div>\n<style scoped>\n    .dataframe tbody tr th:only-of-type {\n        vertical-align: middle;\n    }\n\n    .dataframe tbody tr th {\n        vertical-align: top;\n    }\n\n    .dataframe thead th {\n        text-align: right;\n    }\n</style>\n<table border=\"1\" class=\"dataframe\">\n  <thead>\n    <tr style=\"text-align: right;\">\n      <th></th>\n      <th>Population Growth</th>\n      <th>Annual CO₂ emissions</th>\n    </tr>\n  </thead>\n  <tbody>\n    <tr>\n      <th>0</th>\n      <td>43808400.0</td>\n      <td>6.381406e+09</td>\n    </tr>\n    <tr>\n      <th>1</th>\n      <td>47140600.0</td>\n      <td>6.467437e+09</td>\n    </tr>\n    <tr>\n      <th>2</th>\n      <td>50007800.0</td>\n      <td>6.650862e+09</td>\n    </tr>\n    <tr>\n      <th>3</th>\n      <td>51700500.0</td>\n      <td>6.789497e+09</td>\n    </tr>\n    <tr>\n      <th>4</th>\n      <td>54092700.0</td>\n      <td>7.443861e+09</td>\n    </tr>\n    <tr>\n      <th>...</th>\n      <td>...</td>\n      <td>...</td>\n    </tr>\n    <tr>\n      <th>65</th>\n      <td>86876600.0</td>\n      <td>3.546003e+10</td>\n    </tr>\n    <tr>\n      <th>66</th>\n      <td>86348300.0</td>\n      <td>3.602546e+10</td>\n    </tr>\n    <tr>\n      <th>67</th>\n      <td>83967700.0</td>\n      <td>3.676694e+10</td>\n    </tr>\n    <tr>\n      <th>68</th>\n      <td>81161000.0</td>\n      <td>3.704010e+10</td>\n    </tr>\n    <tr>\n      <th>69</th>\n      <td>76002000.0</td>\n      <td>3.500774e+10</td>\n    </tr>\n  </tbody>\n</table>\n<p>70 rows × 2 columns</p>\n</div>"
     },
     "execution_count": 22,
     "metadata": {},
     "output_type": "execute_result"
    }
   ],
   "source": [
    "populationGrowth"
   ],
   "metadata": {
    "collapsed": false,
    "ExecuteTime": {
     "end_time": "2024-04-01T04:15:08.653179436Z",
     "start_time": "2024-04-01T04:15:08.642238478Z"
    }
   },
   "id": "32560cb61b99c2a1",
   "execution_count": 22
  },
  {
   "cell_type": "code",
   "outputs": [],
   "source": [
    "totalCO2EmissionsNum = df[\"Annual CO₂ emissions\"][0]\n",
    "totalCO2Emissions.loc[0] = [df[\"Population\"][0], totalCO2EmissionsNum]\n",
    "for i in range(1, len(df)):\n",
    "    totalCO2Emissions.loc[i] = [df[\"Population\"][i], totalCO2EmissionsNum + df[\"Annual CO₂ emissions\"][i]]\n",
    "    totalCO2EmissionsNum += df[\"Annual CO₂ emissions\"][i]"
   ],
   "metadata": {
    "collapsed": false,
    "ExecuteTime": {
     "end_time": "2024-04-01T04:15:09.693101291Z",
     "start_time": "2024-04-01T04:15:09.634303435Z"
    }
   },
   "id": "50f34c8bdb82c150",
   "execution_count": 23
  },
  {
   "cell_type": "code",
   "outputs": [],
   "source": [
    "# remove the first row of the dataframe\n",
    "totalCO2Emissions = totalCO2Emissions.drop(0)"
   ],
   "metadata": {
    "collapsed": false,
    "ExecuteTime": {
     "end_time": "2024-04-01T04:15:47.912569750Z",
     "start_time": "2024-04-01T04:15:47.869326758Z"
    }
   },
   "id": "bae3d3daf252ae00",
   "execution_count": 25
  },
  {
   "cell_type": "code",
   "outputs": [
    {
     "data": {
      "text/plain": "      Population  Total CO₂ emissions\n1   2.543130e+09         1.231075e+10\n2   2.590271e+09         1.877818e+10\n3   2.640279e+09         2.542905e+10\n4   2.691979e+09         3.221854e+10\n5   2.746072e+09         3.966240e+10\n..           ...                  ...\n66  7.513474e+09         1.329221e+12\n67  7.599822e+09         1.365246e+12\n68  7.683790e+09         1.402013e+12\n69  7.764951e+09         1.439053e+12\n70  7.840953e+09         1.474061e+12\n\n[70 rows x 2 columns]",
      "text/html": "<div>\n<style scoped>\n    .dataframe tbody tr th:only-of-type {\n        vertical-align: middle;\n    }\n\n    .dataframe tbody tr th {\n        vertical-align: top;\n    }\n\n    .dataframe thead th {\n        text-align: right;\n    }\n</style>\n<table border=\"1\" class=\"dataframe\">\n  <thead>\n    <tr style=\"text-align: right;\">\n      <th></th>\n      <th>Population</th>\n      <th>Total CO₂ emissions</th>\n    </tr>\n  </thead>\n  <tbody>\n    <tr>\n      <th>1</th>\n      <td>2.543130e+09</td>\n      <td>1.231075e+10</td>\n    </tr>\n    <tr>\n      <th>2</th>\n      <td>2.590271e+09</td>\n      <td>1.877818e+10</td>\n    </tr>\n    <tr>\n      <th>3</th>\n      <td>2.640279e+09</td>\n      <td>2.542905e+10</td>\n    </tr>\n    <tr>\n      <th>4</th>\n      <td>2.691979e+09</td>\n      <td>3.221854e+10</td>\n    </tr>\n    <tr>\n      <th>5</th>\n      <td>2.746072e+09</td>\n      <td>3.966240e+10</td>\n    </tr>\n    <tr>\n      <th>...</th>\n      <td>...</td>\n      <td>...</td>\n    </tr>\n    <tr>\n      <th>66</th>\n      <td>7.513474e+09</td>\n      <td>1.329221e+12</td>\n    </tr>\n    <tr>\n      <th>67</th>\n      <td>7.599822e+09</td>\n      <td>1.365246e+12</td>\n    </tr>\n    <tr>\n      <th>68</th>\n      <td>7.683790e+09</td>\n      <td>1.402013e+12</td>\n    </tr>\n    <tr>\n      <th>69</th>\n      <td>7.764951e+09</td>\n      <td>1.439053e+12</td>\n    </tr>\n    <tr>\n      <th>70</th>\n      <td>7.840953e+09</td>\n      <td>1.474061e+12</td>\n    </tr>\n  </tbody>\n</table>\n<p>70 rows × 2 columns</p>\n</div>"
     },
     "execution_count": 26,
     "metadata": {},
     "output_type": "execute_result"
    }
   ],
   "source": [
    "totalCO2Emissions"
   ],
   "metadata": {
    "collapsed": false,
    "ExecuteTime": {
     "end_time": "2024-04-01T04:15:50.404008818Z",
     "start_time": "2024-04-01T04:15:50.363160859Z"
    }
   },
   "id": "ac4fc3a12cf89d84",
   "execution_count": 26
  },
  {
   "cell_type": "code",
   "outputs": [],
   "source": [
    "# dump the dataframes into csv files\n",
    "populationGrowth.to_csv(\"populationGrowth.csv\", index=False)\n",
    "totalCO2Emissions.to_csv(\"totalCO2Emissions.csv\", index=False)"
   ],
   "metadata": {
    "collapsed": false,
    "ExecuteTime": {
     "end_time": "2024-04-01T04:16:12.450623643Z",
     "start_time": "2024-04-01T04:16:12.408026865Z"
    }
   },
   "id": "da7a5d8930a4fb62",
   "execution_count": 27
  },
  {
   "cell_type": "code",
   "outputs": [],
   "source": [],
   "metadata": {
    "collapsed": false
   },
   "id": "8db5368e211ec359"
  }
 ],
 "metadata": {
  "kernelspec": {
   "display_name": "Python 3",
   "language": "python",
   "name": "python3"
  },
  "language_info": {
   "codemirror_mode": {
    "name": "ipython",
    "version": 2
   },
   "file_extension": ".py",
   "mimetype": "text/x-python",
   "name": "python",
   "nbconvert_exporter": "python",
   "pygments_lexer": "ipython2",
   "version": "2.7.6"
  }
 },
 "nbformat": 4,
 "nbformat_minor": 5
}
