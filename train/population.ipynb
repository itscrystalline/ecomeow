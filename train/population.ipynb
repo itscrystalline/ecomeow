{
 "cells": [
  {
   "cell_type": "code",
   "execution_count": 7,
   "id": "initial_id",
   "metadata": {
    "collapsed": true,
    "ExecuteTime": {
     "end_time": "2024-04-01T08:02:55.295701151Z",
     "start_time": "2024-04-01T08:02:55.278703028Z"
    }
   },
   "outputs": [],
   "source": [
    "import pandas as pd\n",
    "import numpy as np\n",
    "file = \"population-1800-2021.csv\"\n",
    "df = pd.read_csv(file)"
   ]
  },
  {
   "cell_type": "code",
   "outputs": [],
   "source": [
    "# remove everything in the Annual CO₂ emissions column\n",
    "# convert everything in the year column to a unix timestamp (at the end of the year)\n",
    "# years before 1970 have their timestamp set to negative\n",
    "\n",
    "# df = df.drop(columns=[\"Annual CO₂ emissions\"])\n",
    "\n",
    "for i in range(len(df)):\n",
    "    year = df[\"Year\"][i]\n",
    "    df.loc[i, \"Year\"] = pd.Timestamp(f\"{year}-12-31\").timestamp()\n"
   ],
   "metadata": {
    "collapsed": false,
    "ExecuteTime": {
     "end_time": "2024-04-01T08:02:55.912572443Z",
     "start_time": "2024-04-01T08:02:55.780979973Z"
    }
   },
   "id": "a1e753327e8ebe7e",
   "execution_count": 8
  },
  {
   "cell_type": "code",
   "outputs": [
    {
     "data": {
      "text/plain": "           Year  Population\n0   -5333212800   985340629\n1   -5301676800   987628322\n2   -5270140800   991098738\n3   -5238604800   994610260\n4   -5206982400   998163240\n..          ...         ...\n218  1546214400  7683789824\n219  1577750400  7764951040\n220  1609372800  7840952832\n221  1640908800  7909295104\n222  1703980800  8043615390\n\n[223 rows x 2 columns]",
      "text/html": "<div>\n<style scoped>\n    .dataframe tbody tr th:only-of-type {\n        vertical-align: middle;\n    }\n\n    .dataframe tbody tr th {\n        vertical-align: top;\n    }\n\n    .dataframe thead th {\n        text-align: right;\n    }\n</style>\n<table border=\"1\" class=\"dataframe\">\n  <thead>\n    <tr style=\"text-align: right;\">\n      <th></th>\n      <th>Year</th>\n      <th>Population</th>\n    </tr>\n  </thead>\n  <tbody>\n    <tr>\n      <th>0</th>\n      <td>-5333212800</td>\n      <td>985340629</td>\n    </tr>\n    <tr>\n      <th>1</th>\n      <td>-5301676800</td>\n      <td>987628322</td>\n    </tr>\n    <tr>\n      <th>2</th>\n      <td>-5270140800</td>\n      <td>991098738</td>\n    </tr>\n    <tr>\n      <th>3</th>\n      <td>-5238604800</td>\n      <td>994610260</td>\n    </tr>\n    <tr>\n      <th>4</th>\n      <td>-5206982400</td>\n      <td>998163240</td>\n    </tr>\n    <tr>\n      <th>...</th>\n      <td>...</td>\n      <td>...</td>\n    </tr>\n    <tr>\n      <th>218</th>\n      <td>1546214400</td>\n      <td>7683789824</td>\n    </tr>\n    <tr>\n      <th>219</th>\n      <td>1577750400</td>\n      <td>7764951040</td>\n    </tr>\n    <tr>\n      <th>220</th>\n      <td>1609372800</td>\n      <td>7840952832</td>\n    </tr>\n    <tr>\n      <th>221</th>\n      <td>1640908800</td>\n      <td>7909295104</td>\n    </tr>\n    <tr>\n      <th>222</th>\n      <td>1703980800</td>\n      <td>8043615390</td>\n    </tr>\n  </tbody>\n</table>\n<p>223 rows × 2 columns</p>\n</div>"
     },
     "execution_count": 9,
     "metadata": {},
     "output_type": "execute_result"
    }
   ],
   "source": [
    "df"
   ],
   "metadata": {
    "collapsed": false,
    "ExecuteTime": {
     "end_time": "2024-04-01T08:02:56.446425749Z",
     "start_time": "2024-04-01T08:02:56.431612444Z"
    }
   },
   "id": "5f2a502cddfdf024",
   "execution_count": 9
  },
  {
   "cell_type": "code",
   "outputs": [],
   "source": [
    "df.to_csv(\"population.csv\", index=False)"
   ],
   "metadata": {
    "collapsed": false,
    "ExecuteTime": {
     "end_time": "2024-04-01T08:02:58.863670632Z",
     "start_time": "2024-04-01T08:02:58.823975963Z"
    }
   },
   "id": "9544eb14e2725724",
   "execution_count": 10
  },
  {
   "cell_type": "code",
   "outputs": [],
   "source": [],
   "metadata": {
    "collapsed": false
   },
   "id": "f4b50a56fd5ed25d"
  }
 ],
 "metadata": {
  "kernelspec": {
   "display_name": "Python 3",
   "language": "python",
   "name": "python3"
  },
  "language_info": {
   "codemirror_mode": {
    "name": "ipython",
    "version": 2
   },
   "file_extension": ".py",
   "mimetype": "text/x-python",
   "name": "python",
   "nbconvert_exporter": "python",
   "pygments_lexer": "ipython2",
   "version": "2.7.6"
  }
 },
 "nbformat": 4,
 "nbformat_minor": 5
}
